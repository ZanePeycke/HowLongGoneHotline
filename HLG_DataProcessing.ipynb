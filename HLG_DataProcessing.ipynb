{
 "cells": [
  {
   "cell_type": "code",
   "execution_count": 1,
   "metadata": {
    "collapsed": true
   },
   "outputs": [],
   "source": [
    "import data_processing\n"
   ]
  },
  {
   "cell_type": "code",
   "execution_count": 3,
   "outputs": [],
   "source": [
    "# If necessary, we can remove all the recurring ad reads or intro in the first N lines\n",
    "# If you download Anchor podcast episodes in bulk it will likely be necessary\n",
    "data_processing.remove_intro('/Users/peycke/Documents/langue/HLG/Text/Monologue/', 4)"
   ],
   "metadata": {
    "collapsed": false,
    "pycharm": {
     "name": "#%%\n"
    }
   }
  },
  {
   "cell_type": "code",
   "execution_count": 4,
   "outputs": [],
   "source": [
    "# Location of folder that contains all transcripts:\n",
    "transcript_folder = '/Users/peycke/Documents/langue/HLG/Text/Monologue/'\n",
    "\n",
    "# Name and Location of text file of concatenated transcripts\n",
    "output_file = '/Users/peycke/Documents/langue/HLG/Text/complete_datasets/total_raw_03.txt'\n",
    "\n",
    "# Combine all episode transcriptions from the specified folder and output a single text file\n",
    "data_processing.concatFiles(transcript_folder, output_file)"
   ],
   "metadata": {
    "collapsed": false,
    "pycharm": {
     "name": "#%%\n"
    }
   }
  },
  {
   "cell_type": "code",
   "execution_count": 4,
   "outputs": [],
   "source": [
    "# We can now create a pandas dataframe for exploration\n",
    "# See HLG_Exploration notebook for more information\n",
    "df = data_processing.transcript_to_dataframe(output_file)"
   ],
   "metadata": {
    "collapsed": false,
    "pycharm": {
     "name": "#%%\n"
    }
   }
  },
  {
   "cell_type": "code",
   "execution_count": 5,
   "outputs": [
    {
     "data": {
      "text/plain": "(175780, 1)"
     },
     "execution_count": 5,
     "metadata": {},
     "output_type": "execute_result"
    }
   ],
   "source": [],
   "metadata": {
    "collapsed": false,
    "pycharm": {
     "name": "#%%\n"
    }
   }
  },
  {
   "cell_type": "code",
   "execution_count": null,
   "outputs": [],
   "source": [],
   "metadata": {
    "collapsed": false,
    "pycharm": {
     "name": "#%%\n"
    }
   }
  }
 ],
 "metadata": {
  "kernelspec": {
   "display_name": "Python 3",
   "language": "python",
   "name": "python3"
  },
  "language_info": {
   "codemirror_mode": {
    "name": "ipython",
    "version": 2
   },
   "file_extension": ".py",
   "mimetype": "text/x-python",
   "name": "python",
   "nbconvert_exporter": "python",
   "pygments_lexer": "ipython2",
   "version": "2.7.6"
  }
 },
 "nbformat": 4,
 "nbformat_minor": 0
}