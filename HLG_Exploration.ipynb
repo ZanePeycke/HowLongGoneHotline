{
 "cells": [
  {
   "cell_type": "code",
   "execution_count": 1,
   "metadata": {
    "collapsed": true
   },
   "outputs": [],
   "source": [
    "import pandas as pd\n",
    "import matplotlib.pyplot as plt\n",
    "import data_processing\n",
    "import nltk\n",
    "from sklearn.feature_extraction.text import CountVectorizer\n",
    "from nltk.corpus import stopwords\n",
    "\n"
   ]
  },
  {
   "cell_type": "code",
   "execution_count": 2,
   "outputs": [
    {
     "name": "stdout",
     "output_type": "stream",
     "text": [
      "The dataframe shape is (174549, 1)\n"
     ]
    }
   ],
   "source": [
    "df = data_processing.transcript_to_dataframe('total_dataset.txt')\n",
    "\n",
    "# Should be of shape (N, 1), N is the number of phrases which will vary by dataset\n",
    "# For example: HLG is ~175,000\n",
    "print(f'The dataframe shape is {df.shape}')"
   ],
   "metadata": {
    "collapsed": false,
    "pycharm": {
     "name": "#%%\n"
    }
   }
  },
  {
   "cell_type": "code",
   "execution_count": 3,
   "outputs": [
    {
     "name": "stdout",
     "output_type": "stream",
     "text": [
      "count    174549.000000\n",
      "mean         12.072301\n",
      "std          13.286237\n",
      "min           0.000000\n",
      "25%           4.000000\n",
      "50%           8.000000\n",
      "75%          16.000000\n",
      "max         449.000000\n",
      "Name: phrase, dtype: float64\n"
     ]
    }
   ],
   "source": [
    "# Check distribution of phrase length\n",
    "\n",
    "phrase_length = df.phrase.str.split().apply(lambda x: len(x))\n",
    "print(phrase_length.describe())"
   ],
   "metadata": {
    "collapsed": false,
    "pycharm": {
     "name": "#%%\n"
    }
   }
  },
  {
   "cell_type": "code",
   "execution_count": 6,
   "outputs": [
    {
     "data": {
      "text/plain": "                                              phrase\n0       okay chris good afternoon to you how are you\n1  oh i've had a packed morning today you know i ...\n2             why are you so packed on a dang sunday\n3  well jason i like to move my body and also exe...\n4  so you were were you reading studying some aca...",
      "text/html": "<div>\n<style scoped>\n    .dataframe tbody tr th:only-of-type {\n        vertical-align: middle;\n    }\n\n    .dataframe tbody tr th {\n        vertical-align: top;\n    }\n\n    .dataframe thead th {\n        text-align: right;\n    }\n</style>\n<table border=\"1\" class=\"dataframe\">\n  <thead>\n    <tr style=\"text-align: right;\">\n      <th></th>\n      <th>phrase</th>\n    </tr>\n  </thead>\n  <tbody>\n    <tr>\n      <th>0</th>\n      <td>okay chris good afternoon to you how are you</td>\n    </tr>\n    <tr>\n      <th>1</th>\n      <td>oh i've had a packed morning today you know i ...</td>\n    </tr>\n    <tr>\n      <th>2</th>\n      <td>why are you so packed on a dang sunday</td>\n    </tr>\n    <tr>\n      <th>3</th>\n      <td>well jason i like to move my body and also exe...</td>\n    </tr>\n    <tr>\n      <th>4</th>\n      <td>so you were were you reading studying some aca...</td>\n    </tr>\n  </tbody>\n</table>\n</div>"
     },
     "execution_count": 6,
     "metadata": {},
     "output_type": "execute_result"
    }
   ],
   "source": [
    "df.head()"
   ],
   "metadata": {
    "collapsed": false,
    "pycharm": {
     "name": "#%%\n"
    }
   }
  },
  {
   "cell_type": "code",
   "execution_count": null,
   "outputs": [],
   "source": [
    "# The Majority of our phrases should be significantly less than 50 words in length,\n",
    "# So let's view that range\n",
    "phrase_length.hist(range=(0, 50), bins=20)\n"
   ],
   "metadata": {
    "collapsed": false,
    "pycharm": {
     "name": "#%%\n"
    }
   }
  },
  {
   "cell_type": "code",
   "execution_count": 14,
   "outputs": [
    {
     "data": {
      "text/plain": "               0\nthink      15207\npeople      7789\nget         6580\nwell        6197\nright       5845\none         5761\nkind        5648\ngood        5094\noh          4861\ngonna       4739\ngo          4682\nlittle      4556\ngoing       4475\ngot         4443\nwant        4345\ntime        4333\nlot         3963\nthing       3909\nalso        3677\nsomething   3436\nokay        3424\nfeel        3341\nsay         3333\nactually    3320\nway         3266\nnew         2995\nsee         2957\ncould       2936\nmake        2890\npodcast     2879\neven        2870\njason       2840\nlove        2826\nguys        2761\nmaybe       2724\nmuch        2699\nneed        2623\nlet         2608\nfucking     2493\nbig         2431\nback        2337\nnever       2336\nstuff       2249\nlook        2173\nchris       2125\nus          2088\nshit        2073\nyes         2058\nsaying      2034\nshow        2029",
      "text/html": "<div>\n<style scoped>\n    .dataframe tbody tr th:only-of-type {\n        vertical-align: middle;\n    }\n\n    .dataframe tbody tr th {\n        vertical-align: top;\n    }\n\n    .dataframe thead th {\n        text-align: right;\n    }\n</style>\n<table border=\"1\" class=\"dataframe\">\n  <thead>\n    <tr style=\"text-align: right;\">\n      <th></th>\n      <th>0</th>\n    </tr>\n  </thead>\n  <tbody>\n    <tr>\n      <th>think</th>\n      <td>15207</td>\n    </tr>\n    <tr>\n      <th>people</th>\n      <td>7789</td>\n    </tr>\n    <tr>\n      <th>get</th>\n      <td>6580</td>\n    </tr>\n    <tr>\n      <th>well</th>\n      <td>6197</td>\n    </tr>\n    <tr>\n      <th>right</th>\n      <td>5845</td>\n    </tr>\n    <tr>\n      <th>one</th>\n      <td>5761</td>\n    </tr>\n    <tr>\n      <th>kind</th>\n      <td>5648</td>\n    </tr>\n    <tr>\n      <th>good</th>\n      <td>5094</td>\n    </tr>\n    <tr>\n      <th>oh</th>\n      <td>4861</td>\n    </tr>\n    <tr>\n      <th>gonna</th>\n      <td>4739</td>\n    </tr>\n    <tr>\n      <th>go</th>\n      <td>4682</td>\n    </tr>\n    <tr>\n      <th>little</th>\n      <td>4556</td>\n    </tr>\n    <tr>\n      <th>going</th>\n      <td>4475</td>\n    </tr>\n    <tr>\n      <th>got</th>\n      <td>4443</td>\n    </tr>\n    <tr>\n      <th>want</th>\n      <td>4345</td>\n    </tr>\n    <tr>\n      <th>time</th>\n      <td>4333</td>\n    </tr>\n    <tr>\n      <th>lot</th>\n      <td>3963</td>\n    </tr>\n    <tr>\n      <th>thing</th>\n      <td>3909</td>\n    </tr>\n    <tr>\n      <th>also</th>\n      <td>3677</td>\n    </tr>\n    <tr>\n      <th>something</th>\n      <td>3436</td>\n    </tr>\n    <tr>\n      <th>okay</th>\n      <td>3424</td>\n    </tr>\n    <tr>\n      <th>feel</th>\n      <td>3341</td>\n    </tr>\n    <tr>\n      <th>say</th>\n      <td>3333</td>\n    </tr>\n    <tr>\n      <th>actually</th>\n      <td>3320</td>\n    </tr>\n    <tr>\n      <th>way</th>\n      <td>3266</td>\n    </tr>\n    <tr>\n      <th>new</th>\n      <td>2995</td>\n    </tr>\n    <tr>\n      <th>see</th>\n      <td>2957</td>\n    </tr>\n    <tr>\n      <th>could</th>\n      <td>2936</td>\n    </tr>\n    <tr>\n      <th>make</th>\n      <td>2890</td>\n    </tr>\n    <tr>\n      <th>podcast</th>\n      <td>2879</td>\n    </tr>\n    <tr>\n      <th>even</th>\n      <td>2870</td>\n    </tr>\n    <tr>\n      <th>jason</th>\n      <td>2840</td>\n    </tr>\n    <tr>\n      <th>love</th>\n      <td>2826</td>\n    </tr>\n    <tr>\n      <th>guys</th>\n      <td>2761</td>\n    </tr>\n    <tr>\n      <th>maybe</th>\n      <td>2724</td>\n    </tr>\n    <tr>\n      <th>much</th>\n      <td>2699</td>\n    </tr>\n    <tr>\n      <th>need</th>\n      <td>2623</td>\n    </tr>\n    <tr>\n      <th>let</th>\n      <td>2608</td>\n    </tr>\n    <tr>\n      <th>fucking</th>\n      <td>2493</td>\n    </tr>\n    <tr>\n      <th>big</th>\n      <td>2431</td>\n    </tr>\n    <tr>\n      <th>back</th>\n      <td>2337</td>\n    </tr>\n    <tr>\n      <th>never</th>\n      <td>2336</td>\n    </tr>\n    <tr>\n      <th>stuff</th>\n      <td>2249</td>\n    </tr>\n    <tr>\n      <th>look</th>\n      <td>2173</td>\n    </tr>\n    <tr>\n      <th>chris</th>\n      <td>2125</td>\n    </tr>\n    <tr>\n      <th>us</th>\n      <td>2088</td>\n    </tr>\n    <tr>\n      <th>shit</th>\n      <td>2073</td>\n    </tr>\n    <tr>\n      <th>yes</th>\n      <td>2058</td>\n    </tr>\n    <tr>\n      <th>saying</th>\n      <td>2034</td>\n    </tr>\n    <tr>\n      <th>show</th>\n      <td>2029</td>\n    </tr>\n  </tbody>\n</table>\n</div>"
     },
     "execution_count": 14,
     "metadata": {},
     "output_type": "execute_result"
    }
   ],
   "source": [
    "# Quick look at term frequencies\n",
    "\n",
    "# Define English stopwords\n",
    "# nltk.download('stopwords')\n",
    "\n",
    "# We can also define data specific stops to include\n",
    "hlg_stops = ['like', 'know', 'yeah', 'mean', 'really', 'would']\n",
    "\n",
    "stops = set(stopwords.words('english') + hlg_stops)\n",
    "\n",
    "cv = CountVectorizer(stop_words=stops)\n",
    "counts = cv.fit_transform(df.phrase)\n",
    "pd.DataFrame(counts.sum(axis=0),columns=cv.get_feature_names()).T.sort_values(0,ascending=False).head(50)\n"
   ],
   "metadata": {
    "collapsed": false,
    "pycharm": {
     "name": "#%%\n"
    }
   }
  },
  {
   "cell_type": "code",
   "execution_count": 15,
   "outputs": [
    {
     "data": {
      "text/plain": "                  0\nnew york       1315\nthink think    1188\nlittle bit     1117\nlot people      545\nlong gone       521\noh god          470\neven though     440\nthink people    408\nevery day       373\npretty good     319\nmake sure       312\nmake podcast    295\nhigh school     292\nyears ago       287\nlong time       285\ngonna get       277\nmake money      276\nwhole thing     271\nfirst time      266\nmm hmm          263\nwell think      249\ngonna gonna     247\ngonna go        242\nthink gonna     241\nalso think      236\ngot got         236\nblah blah       234\nthink lot       230\none one         229\ngo back         226\nyear old        220\nlet let         219\nsocial media    218\none thing       209\ngood point      208\nwant want       207\nnumber one      196\nmaybe maybe     195\nlittle little   189\nget get         188\nlast night      183\ngonna say       181\nokay well       178\nchris black     177\none gonna       176\nlet go          176\nway make        175\nlet get         170\ngo ahead        169\nneed make       166",
      "text/html": "<div>\n<style scoped>\n    .dataframe tbody tr th:only-of-type {\n        vertical-align: middle;\n    }\n\n    .dataframe tbody tr th {\n        vertical-align: top;\n    }\n\n    .dataframe thead th {\n        text-align: right;\n    }\n</style>\n<table border=\"1\" class=\"dataframe\">\n  <thead>\n    <tr style=\"text-align: right;\">\n      <th></th>\n      <th>0</th>\n    </tr>\n  </thead>\n  <tbody>\n    <tr>\n      <th>new york</th>\n      <td>1315</td>\n    </tr>\n    <tr>\n      <th>think think</th>\n      <td>1188</td>\n    </tr>\n    <tr>\n      <th>little bit</th>\n      <td>1117</td>\n    </tr>\n    <tr>\n      <th>lot people</th>\n      <td>545</td>\n    </tr>\n    <tr>\n      <th>long gone</th>\n      <td>521</td>\n    </tr>\n    <tr>\n      <th>oh god</th>\n      <td>470</td>\n    </tr>\n    <tr>\n      <th>even though</th>\n      <td>440</td>\n    </tr>\n    <tr>\n      <th>think people</th>\n      <td>408</td>\n    </tr>\n    <tr>\n      <th>every day</th>\n      <td>373</td>\n    </tr>\n    <tr>\n      <th>pretty good</th>\n      <td>319</td>\n    </tr>\n    <tr>\n      <th>make sure</th>\n      <td>312</td>\n    </tr>\n    <tr>\n      <th>make podcast</th>\n      <td>295</td>\n    </tr>\n    <tr>\n      <th>high school</th>\n      <td>292</td>\n    </tr>\n    <tr>\n      <th>years ago</th>\n      <td>287</td>\n    </tr>\n    <tr>\n      <th>long time</th>\n      <td>285</td>\n    </tr>\n    <tr>\n      <th>gonna get</th>\n      <td>277</td>\n    </tr>\n    <tr>\n      <th>make money</th>\n      <td>276</td>\n    </tr>\n    <tr>\n      <th>whole thing</th>\n      <td>271</td>\n    </tr>\n    <tr>\n      <th>first time</th>\n      <td>266</td>\n    </tr>\n    <tr>\n      <th>mm hmm</th>\n      <td>263</td>\n    </tr>\n    <tr>\n      <th>well think</th>\n      <td>249</td>\n    </tr>\n    <tr>\n      <th>gonna gonna</th>\n      <td>247</td>\n    </tr>\n    <tr>\n      <th>gonna go</th>\n      <td>242</td>\n    </tr>\n    <tr>\n      <th>think gonna</th>\n      <td>241</td>\n    </tr>\n    <tr>\n      <th>also think</th>\n      <td>236</td>\n    </tr>\n    <tr>\n      <th>got got</th>\n      <td>236</td>\n    </tr>\n    <tr>\n      <th>blah blah</th>\n      <td>234</td>\n    </tr>\n    <tr>\n      <th>think lot</th>\n      <td>230</td>\n    </tr>\n    <tr>\n      <th>one one</th>\n      <td>229</td>\n    </tr>\n    <tr>\n      <th>go back</th>\n      <td>226</td>\n    </tr>\n    <tr>\n      <th>year old</th>\n      <td>220</td>\n    </tr>\n    <tr>\n      <th>let let</th>\n      <td>219</td>\n    </tr>\n    <tr>\n      <th>social media</th>\n      <td>218</td>\n    </tr>\n    <tr>\n      <th>one thing</th>\n      <td>209</td>\n    </tr>\n    <tr>\n      <th>good point</th>\n      <td>208</td>\n    </tr>\n    <tr>\n      <th>want want</th>\n      <td>207</td>\n    </tr>\n    <tr>\n      <th>number one</th>\n      <td>196</td>\n    </tr>\n    <tr>\n      <th>maybe maybe</th>\n      <td>195</td>\n    </tr>\n    <tr>\n      <th>little little</th>\n      <td>189</td>\n    </tr>\n    <tr>\n      <th>get get</th>\n      <td>188</td>\n    </tr>\n    <tr>\n      <th>last night</th>\n      <td>183</td>\n    </tr>\n    <tr>\n      <th>gonna say</th>\n      <td>181</td>\n    </tr>\n    <tr>\n      <th>okay well</th>\n      <td>178</td>\n    </tr>\n    <tr>\n      <th>chris black</th>\n      <td>177</td>\n    </tr>\n    <tr>\n      <th>one gonna</th>\n      <td>176</td>\n    </tr>\n    <tr>\n      <th>let go</th>\n      <td>176</td>\n    </tr>\n    <tr>\n      <th>way make</th>\n      <td>175</td>\n    </tr>\n    <tr>\n      <th>let get</th>\n      <td>170</td>\n    </tr>\n    <tr>\n      <th>go ahead</th>\n      <td>169</td>\n    </tr>\n    <tr>\n      <th>need make</th>\n      <td>166</td>\n    </tr>\n  </tbody>\n</table>\n</div>"
     },
     "execution_count": 15,
     "metadata": {},
     "output_type": "execute_result"
    }
   ],
   "source": [
    "# Check for common bi-grams\n",
    "cv = CountVectorizer(ngram_range=(2,2), stop_words=stops)\n",
    "counts = cv.fit_transform(df.phrase)\n",
    "pd.DataFrame(counts.sum(axis=0),columns=cv.get_feature_names()).T.sort_values(0,ascending=False).head(50)\n"
   ],
   "metadata": {
    "collapsed": false,
    "pycharm": {
     "name": "#%%\n"
    }
   }
  },
  {
   "cell_type": "code",
   "execution_count": 16,
   "outputs": [
    {
     "data": {
      "text/plain": "                        0\ncreation tools allow  144\nneed make podcast     144\nheard spotify apple   144\nmake sure download    144\nway make podcast      144\n...                   ...\nwant make sure         23\ntwo years ago          22\nget little bit         22\nthink think gonna      22\nnew york right         21\n\n[100 rows x 1 columns]",
      "text/html": "<div>\n<style scoped>\n    .dataframe tbody tr th:only-of-type {\n        vertical-align: middle;\n    }\n\n    .dataframe tbody tr th {\n        vertical-align: top;\n    }\n\n    .dataframe thead th {\n        text-align: right;\n    }\n</style>\n<table border=\"1\" class=\"dataframe\">\n  <thead>\n    <tr style=\"text-align: right;\">\n      <th></th>\n      <th>0</th>\n    </tr>\n  </thead>\n  <tbody>\n    <tr>\n      <th>creation tools allow</th>\n      <td>144</td>\n    </tr>\n    <tr>\n      <th>need make podcast</th>\n      <td>144</td>\n    </tr>\n    <tr>\n      <th>heard spotify apple</th>\n      <td>144</td>\n    </tr>\n    <tr>\n      <th>make sure download</th>\n      <td>144</td>\n    </tr>\n    <tr>\n      <th>way make podcast</th>\n      <td>144</td>\n    </tr>\n    <tr>\n      <th>...</th>\n      <td>...</td>\n    </tr>\n    <tr>\n      <th>want make sure</th>\n      <td>23</td>\n    </tr>\n    <tr>\n      <th>two years ago</th>\n      <td>22</td>\n    </tr>\n    <tr>\n      <th>get little bit</th>\n      <td>22</td>\n    </tr>\n    <tr>\n      <th>think think gonna</th>\n      <td>22</td>\n    </tr>\n    <tr>\n      <th>new york right</th>\n      <td>21</td>\n    </tr>\n  </tbody>\n</table>\n<p>100 rows × 1 columns</p>\n</div>"
     },
     "execution_count": 16,
     "metadata": {},
     "output_type": "execute_result"
    }
   ],
   "source": [
    "# Check for common tri-grams\n",
    "cv = CountVectorizer(ngram_range=(3,3), stop_words=stops)\n",
    "counts = cv.fit_transform(df.phrase)\n",
    "pd.DataFrame(counts.sum(axis=0),columns=cv.get_feature_names()).T.sort_values(0,ascending=False).head(100)\n"
   ],
   "metadata": {
    "collapsed": false,
    "pycharm": {
     "name": "#%%\n"
    }
   }
  },
  {
   "cell_type": "code",
   "execution_count": 17,
   "outputs": [
    {
     "data": {
      "text/plain": "                                0\ntools allow record edit       144\neasiest way make podcast      144\nneed make podcast one         144\ncreation tools allow record   144\nsure download free anchor     143\n...                           ...\nheard spotify apple podcasts    7\neven though even though         7\nlove ankur use time             7\npodcast love ankur use          7\ngonna go gonna go               7\n\n[100 rows x 1 columns]",
      "text/html": "<div>\n<style scoped>\n    .dataframe tbody tr th:only-of-type {\n        vertical-align: middle;\n    }\n\n    .dataframe tbody tr th {\n        vertical-align: top;\n    }\n\n    .dataframe thead th {\n        text-align: right;\n    }\n</style>\n<table border=\"1\" class=\"dataframe\">\n  <thead>\n    <tr style=\"text-align: right;\">\n      <th></th>\n      <th>0</th>\n    </tr>\n  </thead>\n  <tbody>\n    <tr>\n      <th>tools allow record edit</th>\n      <td>144</td>\n    </tr>\n    <tr>\n      <th>easiest way make podcast</th>\n      <td>144</td>\n    </tr>\n    <tr>\n      <th>need make podcast one</th>\n      <td>144</td>\n    </tr>\n    <tr>\n      <th>creation tools allow record</th>\n      <td>144</td>\n    </tr>\n    <tr>\n      <th>sure download free anchor</th>\n      <td>143</td>\n    </tr>\n    <tr>\n      <th>...</th>\n      <td>...</td>\n    </tr>\n    <tr>\n      <th>heard spotify apple podcasts</th>\n      <td>7</td>\n    </tr>\n    <tr>\n      <th>even though even though</th>\n      <td>7</td>\n    </tr>\n    <tr>\n      <th>love ankur use time</th>\n      <td>7</td>\n    </tr>\n    <tr>\n      <th>podcast love ankur use</th>\n      <td>7</td>\n    </tr>\n    <tr>\n      <th>gonna go gonna go</th>\n      <td>7</td>\n    </tr>\n  </tbody>\n</table>\n<p>100 rows × 1 columns</p>\n</div>"
     },
     "execution_count": 17,
     "metadata": {},
     "output_type": "execute_result"
    }
   ],
   "source": [
    "# Check for common 4-grams\n",
    "cv = CountVectorizer(ngram_range=(4,4), stop_words=stops)\n",
    "counts = cv.fit_transform(df.phrase)\n",
    "pd.DataFrame(counts.sum(axis=0),columns=cv.get_feature_names()).T.sort_values(0,ascending=False).head(100)\n",
    "\n"
   ],
   "metadata": {
    "collapsed": false,
    "pycharm": {
     "name": "#%%\n"
    }
   }
  },
  {
   "cell_type": "code",
   "execution_count": null,
   "outputs": [],
   "source": [],
   "metadata": {
    "collapsed": false,
    "pycharm": {
     "name": "#%%\n"
    }
   }
  }
 ],
 "metadata": {
  "kernelspec": {
   "display_name": "Python 3",
   "language": "python",
   "name": "python3"
  },
  "language_info": {
   "codemirror_mode": {
    "name": "ipython",
    "version": 2
   },
   "file_extension": ".py",
   "mimetype": "text/x-python",
   "name": "python",
   "nbconvert_exporter": "python",
   "pygments_lexer": "ipython2",
   "version": "2.7.6"
  }
 },
 "nbformat": 4,
 "nbformat_minor": 0
}