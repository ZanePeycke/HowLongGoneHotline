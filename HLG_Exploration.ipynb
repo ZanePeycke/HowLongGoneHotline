{
 "cells": [
  {
   "cell_type": "code",
   "execution_count": 1,
   "metadata": {
    "collapsed": true
   },
   "outputs": [],
   "source": [
    "import pandas as pd\n",
    "import matplotlib.pyplot as plt\n",
    "import data_processing\n",
    "import nltk\n",
    "from sklearn.feature_extraction.text import CountVectorizer\n",
    "from nltk.corpus import stopwords\n",
    "\n"
   ]
  },
  {
   "cell_type": "code",
   "execution_count": 2,
   "outputs": [
    {
     "name": "stdout",
     "output_type": "stream",
     "text": [
      "The dataframe shape is (174549, 1)\n"
     ]
    }
   ],
   "source": [
    "phrase_dataframe = data_processing.transcript_to_dataframe('total_dataset.txt')\n",
    "\n",
    "# Should be of shape (N, 1), N is the number of phrases which will vary by dataset\n",
    "# For example: HLG is ~175,000\n",
    "print(f'The dataframe shape is {phrase_dataframe.shape}')\n"
   ],
   "metadata": {
    "collapsed": false,
    "pycharm": {
     "name": "#%%\n"
    }
   }
  },
  {
   "cell_type": "code",
   "execution_count": 3,
   "outputs": [
    {
     "name": "stdout",
     "output_type": "stream",
     "text": [
      "The dataframe shape is (173418, 1)\n"
     ]
    }
   ],
   "source": [
    "# In many cases each episode shares the same intro or ad read that will throw off\n",
    "# our analysis. For example: Podcasts that use anchor may have the same ad if we\n",
    "# downloaded all at the same time so phrases in the ad read would greatly outnumber\n",
    "# even the most common phrases said across episodes.\n",
    "\n",
    "# We define our list of phrases that occur in sentences we want to remove\n",
    "# Then our remove_phrases functions iterates through our dataframe and removes\n",
    "# all instances.\n",
    "phrase_list = ['creation tools','distribute your podcast','need to make a podcast',\n",
    "               'free anchor app','fm to get started','easiest way to make a podcast',\n",
    "               'haven\\'t heard about anchor','make money from your podcast','minimum listenership',\n",
    "               'absolutely 100% free','Let me explain']\n",
    "phrase_dataframe = data_processing.remove_phrases(phrase_dataframe, phrase_list)\n",
    "\n",
    "\n",
    "print(f'The dataframe shape is {phrase_dataframe.shape}')"
   ],
   "metadata": {
    "collapsed": false,
    "pycharm": {
     "name": "#%%\n"
    }
   }
  },
  {
   "cell_type": "code",
   "execution_count": 4,
   "outputs": [],
   "source": [
    "# Let's view a few examples\n",
    "# These should be sentences or sentence fragments that come after the common phrases in the first episode\n",
    "phrase_dataframe.head()\n",
    "\n",
    "# Optionally we can save to a csv to view more examples outside pandas\n",
    "# phrase_dataframe.to_csv('all_phrases.csv')"
   ],
   "metadata": {
    "collapsed": false,
    "pycharm": {
     "name": "#%%\n"
    }
   }
  },
  {
   "cell_type": "code",
   "execution_count": 5,
   "outputs": [
    {
     "name": "stdout",
     "output_type": "stream",
     "text": [
      "count    173418.000000\n",
      "mean         12.039661\n",
      "std          13.273371\n",
      "min           0.000000\n",
      "25%           4.000000\n",
      "50%           8.000000\n",
      "75%          16.000000\n",
      "max         449.000000\n",
      "Name: phrase, dtype: float64\n"
     ]
    }
   ],
   "source": [
    "# Check distribution of phrase length\n",
    "\n",
    "phrase_length = phrase_dataframe.phrase.str.split().apply(lambda x: len(x))\n",
    "print(phrase_length.describe())"
   ],
   "metadata": {
    "collapsed": false,
    "pycharm": {
     "name": "#%%\n"
    }
   }
  },
  {
   "cell_type": "code",
   "execution_count": 6,
   "outputs": [
    {
     "data": {
      "text/plain": "<AxesSubplot:>"
     },
     "execution_count": 6,
     "metadata": {},
     "output_type": "execute_result"
    },
    {
     "data": {
      "text/plain": "<Figure size 432x288 with 1 Axes>",
      "image/png": "[encoded data removed]"
     },
     "metadata": {
      "needs_background": "light"
     },
     "output_type": "display_data"
    }
   ],
   "source": [
    "# The Majority of our phrases should be significantly less than 50 words in length,\n",
    "# So let's view that range\n",
    "phrase_length.hist(range=(0, 50), bins=20)\n"
   ],
   "metadata": {
    "collapsed": false,
    "pycharm": {
     "name": "#%%\n"
    }
   }
  },
  {
   "cell_type": "code",
   "execution_count": null,
   "outputs": [],
   "source": [
    "#TODO: Add code to remove phrases less than three words in length and more than say 100?\n",
    "# Upper limit should be found through distribution so maybe an additional check would be good."
   ],
   "metadata": {
    "collapsed": false,
    "pycharm": {
     "name": "#%%\n"
    }
   }
  },
  {
   "cell_type": "code",
   "execution_count": 16,
   "outputs": [
    {
     "data": {
      "text/plain": "              0\npeople     7789\nget        6436\nwell       6197\nright      5700\nkind       5645\none        5483\ngood       5092\nhow        4894\noh         4860\ngonna      4614\nlittle     4552\ngo         4539\ngoing      4464\ngot        4443\nwant       4345\ntime       4203\nlot        3962\nthing      3908\nalso       3674\nsomething  3435\nokay       3416\nfeel       3341\nsay        3333\nactually   3320\nway        3122\nnew        2994\nsee        2956\ncould      2936\njason      2838\nguys       2761\neven       2725\nmaybe      2724\nmuch       2699\nlove       2695\nfucking    2491\nneed       2479\nlet        2454\nbig        2431\nback       2337\nnever      2336\nmake       2315\nstuff      2249\nlook       2173\nchris      2125\nus         2087\nshit       2073\nyes        2058\npodcast    2036\nsaying     2033\nshow       2029",
      "text/html": "<div>\n<style scoped>\n    .dataframe tbody tr th:only-of-type {\n        vertical-align: middle;\n    }\n\n    .dataframe tbody tr th {\n        vertical-align: top;\n    }\n\n    .dataframe thead th {\n        text-align: right;\n    }\n</style>\n<table border=\"1\" class=\"dataframe\">\n  <thead>\n    <tr style=\"text-align: right;\">\n      <th></th>\n      <th>0</th>\n    </tr>\n  </thead>\n  <tbody>\n    <tr>\n      <th>people</th>\n      <td>7789</td>\n    </tr>\n    <tr>\n      <th>get</th>\n      <td>6436</td>\n    </tr>\n    <tr>\n      <th>well</th>\n      <td>6197</td>\n    </tr>\n    <tr>\n      <th>right</th>\n      <td>5700</td>\n    </tr>\n    <tr>\n      <th>kind</th>\n      <td>5645</td>\n    </tr>\n    <tr>\n      <th>one</th>\n      <td>5483</td>\n    </tr>\n    <tr>\n      <th>good</th>\n      <td>5092</td>\n    </tr>\n    <tr>\n      <th>how</th>\n      <td>4894</td>\n    </tr>\n    <tr>\n      <th>oh</th>\n      <td>4860</td>\n    </tr>\n    <tr>\n      <th>gonna</th>\n      <td>4614</td>\n    </tr>\n    <tr>\n      <th>little</th>\n      <td>4552</td>\n    </tr>\n    <tr>\n      <th>go</th>\n      <td>4539</td>\n    </tr>\n    <tr>\n      <th>going</th>\n      <td>4464</td>\n    </tr>\n    <tr>\n      <th>got</th>\n      <td>4443</td>\n    </tr>\n    <tr>\n      <th>want</th>\n      <td>4345</td>\n    </tr>\n    <tr>\n      <th>time</th>\n      <td>4203</td>\n    </tr>\n    <tr>\n      <th>lot</th>\n      <td>3962</td>\n    </tr>\n    <tr>\n      <th>thing</th>\n      <td>3908</td>\n    </tr>\n    <tr>\n      <th>also</th>\n      <td>3674</td>\n    </tr>\n    <tr>\n      <th>something</th>\n      <td>3435</td>\n    </tr>\n    <tr>\n      <th>okay</th>\n      <td>3416</td>\n    </tr>\n    <tr>\n      <th>feel</th>\n      <td>3341</td>\n    </tr>\n    <tr>\n      <th>say</th>\n      <td>3333</td>\n    </tr>\n    <tr>\n      <th>actually</th>\n      <td>3320</td>\n    </tr>\n    <tr>\n      <th>way</th>\n      <td>3122</td>\n    </tr>\n    <tr>\n      <th>new</th>\n      <td>2994</td>\n    </tr>\n    <tr>\n      <th>see</th>\n      <td>2956</td>\n    </tr>\n    <tr>\n      <th>could</th>\n      <td>2936</td>\n    </tr>\n    <tr>\n      <th>jason</th>\n      <td>2838</td>\n    </tr>\n    <tr>\n      <th>guys</th>\n      <td>2761</td>\n    </tr>\n    <tr>\n      <th>even</th>\n      <td>2725</td>\n    </tr>\n    <tr>\n      <th>maybe</th>\n      <td>2724</td>\n    </tr>\n    <tr>\n      <th>much</th>\n      <td>2699</td>\n    </tr>\n    <tr>\n      <th>love</th>\n      <td>2695</td>\n    </tr>\n    <tr>\n      <th>fucking</th>\n      <td>2491</td>\n    </tr>\n    <tr>\n      <th>need</th>\n      <td>2479</td>\n    </tr>\n    <tr>\n      <th>let</th>\n      <td>2454</td>\n    </tr>\n    <tr>\n      <th>big</th>\n      <td>2431</td>\n    </tr>\n    <tr>\n      <th>back</th>\n      <td>2337</td>\n    </tr>\n    <tr>\n      <th>never</th>\n      <td>2336</td>\n    </tr>\n    <tr>\n      <th>make</th>\n      <td>2315</td>\n    </tr>\n    <tr>\n      <th>stuff</th>\n      <td>2249</td>\n    </tr>\n    <tr>\n      <th>look</th>\n      <td>2173</td>\n    </tr>\n    <tr>\n      <th>chris</th>\n      <td>2125</td>\n    </tr>\n    <tr>\n      <th>us</th>\n      <td>2087</td>\n    </tr>\n    <tr>\n      <th>shit</th>\n      <td>2073</td>\n    </tr>\n    <tr>\n      <th>yes</th>\n      <td>2058</td>\n    </tr>\n    <tr>\n      <th>podcast</th>\n      <td>2036</td>\n    </tr>\n    <tr>\n      <th>saying</th>\n      <td>2033</td>\n    </tr>\n    <tr>\n      <th>show</th>\n      <td>2029</td>\n    </tr>\n  </tbody>\n</table>\n</div>"
     },
     "execution_count": 16,
     "metadata": {},
     "output_type": "execute_result"
    }
   ],
   "source": [
    "# Quick look at term frequencies\n",
    "\n",
    "# Define English stopwords\n",
    "# nltk.download('stopwords')\n",
    "\n",
    "# We can also define data specific stops to include\n",
    "\n",
    "hlg_stops = ['like', 'know', 'yeah', 'mean', 'really', 'would','think']\n",
    "stops = set(stopwords.words('english') + hlg_stops)\n",
    "\n",
    "# In this case the title of the podcast contains a stop word so we include it in our analysis\n",
    "stops.remove('how')\n",
    "\n",
    "# Set a vectorizer and define counts for our most common phrases\n",
    "cv = CountVectorizer(stop_words=stops)\n",
    "counts = cv.fit_transform(phrase_dataframe.phrase)\n",
    "pd.DataFrame(counts.sum(axis=0),columns=cv.get_feature_names()).T.sort_values(0,ascending=False).head(50)\n"
   ],
   "metadata": {
    "collapsed": false,
    "pycharm": {
     "name": "#%%\n"
    }
   }
  },
  {
   "cell_type": "code",
   "execution_count": 17,
   "outputs": [
    {
     "data": {
      "text/plain": "                  0\nnew york       1315\nlittle bit     1117\nhow long        579\nlot people      546\noh god          470\nlong gone       422\nevery day       373\npretty good     319\nhow much        312\neven though     299\nhigh school     292\nyears ago       287\nlong time       284\ngonna get       277\nwhole thing     272\nfirst time      266\nmm hmm          263\ngonna gonna     250\ngonna go        242\ngot got         236\nblah blah       234\none one         231\ngo back         226\nhow many        221\nyear old        220\nlet let         218\nsocial media    218\nwant want       209\none thing       209\ngood point      208\nnumber one      196\nhow how         196\nmaybe maybe     195\nlittle little   188\nget get         185\nlast night      182\ngonna say       181\nokay well       178\nchris black     177\nlet go          176\npeople people   172\nlet get         170\ngo ahead        169\nmake sure       169\nevery time      164\npeople want     160\nmakes sense     154\ncould could     153\nwant talk       153\nwant get        153",
      "text/html": "<div>\n<style scoped>\n    .dataframe tbody tr th:only-of-type {\n        vertical-align: middle;\n    }\n\n    .dataframe tbody tr th {\n        vertical-align: top;\n    }\n\n    .dataframe thead th {\n        text-align: right;\n    }\n</style>\n<table border=\"1\" class=\"dataframe\">\n  <thead>\n    <tr style=\"text-align: right;\">\n      <th></th>\n      <th>0</th>\n    </tr>\n  </thead>\n  <tbody>\n    <tr>\n      <th>new york</th>\n      <td>1315</td>\n    </tr>\n    <tr>\n      <th>little bit</th>\n      <td>1117</td>\n    </tr>\n    <tr>\n      <th>how long</th>\n      <td>579</td>\n    </tr>\n    <tr>\n      <th>lot people</th>\n      <td>546</td>\n    </tr>\n    <tr>\n      <th>oh god</th>\n      <td>470</td>\n    </tr>\n    <tr>\n      <th>long gone</th>\n      <td>422</td>\n    </tr>\n    <tr>\n      <th>every day</th>\n      <td>373</td>\n    </tr>\n    <tr>\n      <th>pretty good</th>\n      <td>319</td>\n    </tr>\n    <tr>\n      <th>how much</th>\n      <td>312</td>\n    </tr>\n    <tr>\n      <th>even though</th>\n      <td>299</td>\n    </tr>\n    <tr>\n      <th>high school</th>\n      <td>292</td>\n    </tr>\n    <tr>\n      <th>years ago</th>\n      <td>287</td>\n    </tr>\n    <tr>\n      <th>long time</th>\n      <td>284</td>\n    </tr>\n    <tr>\n      <th>gonna get</th>\n      <td>277</td>\n    </tr>\n    <tr>\n      <th>whole thing</th>\n      <td>272</td>\n    </tr>\n    <tr>\n      <th>first time</th>\n      <td>266</td>\n    </tr>\n    <tr>\n      <th>mm hmm</th>\n      <td>263</td>\n    </tr>\n    <tr>\n      <th>gonna gonna</th>\n      <td>250</td>\n    </tr>\n    <tr>\n      <th>gonna go</th>\n      <td>242</td>\n    </tr>\n    <tr>\n      <th>got got</th>\n      <td>236</td>\n    </tr>\n    <tr>\n      <th>blah blah</th>\n      <td>234</td>\n    </tr>\n    <tr>\n      <th>one one</th>\n      <td>231</td>\n    </tr>\n    <tr>\n      <th>go back</th>\n      <td>226</td>\n    </tr>\n    <tr>\n      <th>how many</th>\n      <td>221</td>\n    </tr>\n    <tr>\n      <th>year old</th>\n      <td>220</td>\n    </tr>\n    <tr>\n      <th>let let</th>\n      <td>218</td>\n    </tr>\n    <tr>\n      <th>social media</th>\n      <td>218</td>\n    </tr>\n    <tr>\n      <th>want want</th>\n      <td>209</td>\n    </tr>\n    <tr>\n      <th>one thing</th>\n      <td>209</td>\n    </tr>\n    <tr>\n      <th>good point</th>\n      <td>208</td>\n    </tr>\n    <tr>\n      <th>number one</th>\n      <td>196</td>\n    </tr>\n    <tr>\n      <th>how how</th>\n      <td>196</td>\n    </tr>\n    <tr>\n      <th>maybe maybe</th>\n      <td>195</td>\n    </tr>\n    <tr>\n      <th>little little</th>\n      <td>188</td>\n    </tr>\n    <tr>\n      <th>get get</th>\n      <td>185</td>\n    </tr>\n    <tr>\n      <th>last night</th>\n      <td>182</td>\n    </tr>\n    <tr>\n      <th>gonna say</th>\n      <td>181</td>\n    </tr>\n    <tr>\n      <th>okay well</th>\n      <td>178</td>\n    </tr>\n    <tr>\n      <th>chris black</th>\n      <td>177</td>\n    </tr>\n    <tr>\n      <th>let go</th>\n      <td>176</td>\n    </tr>\n    <tr>\n      <th>people people</th>\n      <td>172</td>\n    </tr>\n    <tr>\n      <th>let get</th>\n      <td>170</td>\n    </tr>\n    <tr>\n      <th>go ahead</th>\n      <td>169</td>\n    </tr>\n    <tr>\n      <th>make sure</th>\n      <td>169</td>\n    </tr>\n    <tr>\n      <th>every time</th>\n      <td>164</td>\n    </tr>\n    <tr>\n      <th>people want</th>\n      <td>160</td>\n    </tr>\n    <tr>\n      <th>makes sense</th>\n      <td>154</td>\n    </tr>\n    <tr>\n      <th>could could</th>\n      <td>153</td>\n    </tr>\n    <tr>\n      <th>want talk</th>\n      <td>153</td>\n    </tr>\n    <tr>\n      <th>want get</th>\n      <td>153</td>\n    </tr>\n  </tbody>\n</table>\n</div>"
     },
     "execution_count": 17,
     "metadata": {},
     "output_type": "execute_result"
    }
   ],
   "source": [
    "# Check for common bi-grams\n",
    "cv = CountVectorizer(ngram_range=(2,2), stop_words=stops)\n",
    "counts = cv.fit_transform(phrase_dataframe.phrase)\n",
    "pd.DataFrame(counts.sum(axis=0),columns=cv.get_feature_names()).T.sort_values(0,ascending=False).head(50)\n"
   ],
   "metadata": {
    "collapsed": false,
    "pycharm": {
     "name": "#%%\n"
    }
   }
  },
  {
   "cell_type": "code",
   "execution_count": 18,
   "outputs": [
    {
     "data": {
      "text/plain": "                     0\nhow long gone      406\nblah blah blah     113\nnew york times      98\nnew york city       90\nthank joining us    81\n...                ...\nlives new york      13\nliving new york     13\nday every day       13\npeople lot people   13\nlast couple years   13\n\n[100 rows x 1 columns]",
      "text/html": "<div>\n<style scoped>\n    .dataframe tbody tr th:only-of-type {\n        vertical-align: middle;\n    }\n\n    .dataframe tbody tr th {\n        vertical-align: top;\n    }\n\n    .dataframe thead th {\n        text-align: right;\n    }\n</style>\n<table border=\"1\" class=\"dataframe\">\n  <thead>\n    <tr style=\"text-align: right;\">\n      <th></th>\n      <th>0</th>\n    </tr>\n  </thead>\n  <tbody>\n    <tr>\n      <th>how long gone</th>\n      <td>406</td>\n    </tr>\n    <tr>\n      <th>blah blah blah</th>\n      <td>113</td>\n    </tr>\n    <tr>\n      <th>new york times</th>\n      <td>98</td>\n    </tr>\n    <tr>\n      <th>new york city</th>\n      <td>90</td>\n    </tr>\n    <tr>\n      <th>thank joining us</th>\n      <td>81</td>\n    </tr>\n    <tr>\n      <th>...</th>\n      <td>...</td>\n    </tr>\n    <tr>\n      <th>lives new york</th>\n      <td>13</td>\n    </tr>\n    <tr>\n      <th>living new york</th>\n      <td>13</td>\n    </tr>\n    <tr>\n      <th>day every day</th>\n      <td>13</td>\n    </tr>\n    <tr>\n      <th>people lot people</th>\n      <td>13</td>\n    </tr>\n    <tr>\n      <th>last couple years</th>\n      <td>13</td>\n    </tr>\n  </tbody>\n</table>\n<p>100 rows × 1 columns</p>\n</div>"
     },
     "execution_count": 18,
     "metadata": {},
     "output_type": "execute_result"
    }
   ],
   "source": [
    "# Check for common tri-grams\n",
    "cv = CountVectorizer(ngram_range=(3,3), stop_words=stops)\n",
    "counts = cv.fit_transform(phrase_dataframe.phrase)\n",
    "pd.DataFrame(counts.sum(axis=0),columns=cv.get_feature_names()).T.sort_values(0,ascending=False).head(100)\n"
   ],
   "metadata": {
    "collapsed": false,
    "pycharm": {
     "name": "#%%\n"
    }
   }
  },
  {
   "cell_type": "code",
   "execution_count": 19,
   "outputs": [
    {
     "data": {
      "text/plain": "                          0\nhow long gone radio      30\nhow many how many        20\nhow long gone live       19\nlittle bit little bit    17\nhow much how much        16\n...                      ..\napp search how long       4\nlong gone radio spotify   4\nhow could how could       4\ncoming back new york      4\nblank blank blank blank   4\n\n[100 rows x 1 columns]",
      "text/html": "<div>\n<style scoped>\n    .dataframe tbody tr th:only-of-type {\n        vertical-align: middle;\n    }\n\n    .dataframe tbody tr th {\n        vertical-align: top;\n    }\n\n    .dataframe thead th {\n        text-align: right;\n    }\n</style>\n<table border=\"1\" class=\"dataframe\">\n  <thead>\n    <tr style=\"text-align: right;\">\n      <th></th>\n      <th>0</th>\n    </tr>\n  </thead>\n  <tbody>\n    <tr>\n      <th>how long gone radio</th>\n      <td>30</td>\n    </tr>\n    <tr>\n      <th>how many how many</th>\n      <td>20</td>\n    </tr>\n    <tr>\n      <th>how long gone live</th>\n      <td>19</td>\n    </tr>\n    <tr>\n      <th>little bit little bit</th>\n      <td>17</td>\n    </tr>\n    <tr>\n      <th>how much how much</th>\n      <td>16</td>\n    </tr>\n    <tr>\n      <th>...</th>\n      <td>...</td>\n    </tr>\n    <tr>\n      <th>app search how long</th>\n      <td>4</td>\n    </tr>\n    <tr>\n      <th>long gone radio spotify</th>\n      <td>4</td>\n    </tr>\n    <tr>\n      <th>how could how could</th>\n      <td>4</td>\n    </tr>\n    <tr>\n      <th>coming back new york</th>\n      <td>4</td>\n    </tr>\n    <tr>\n      <th>blank blank blank blank</th>\n      <td>4</td>\n    </tr>\n  </tbody>\n</table>\n<p>100 rows × 1 columns</p>\n</div>"
     },
     "execution_count": 19,
     "metadata": {},
     "output_type": "execute_result"
    }
   ],
   "source": [
    "# Check for common 4-grams\n",
    "cv = CountVectorizer(ngram_range=(4,4), stop_words=stops)\n",
    "counts = cv.fit_transform(phrase_dataframe.phrase)\n",
    "pd.DataFrame(counts.sum(axis=0),columns=cv.get_feature_names()).T.sort_values(0,ascending=False).head(100)\n",
    "\n"
   ],
   "metadata": {
    "collapsed": false,
    "pycharm": {
     "name": "#%%\n"
    }
   }
  },
  {
   "cell_type": "code",
   "execution_count": 11,
   "outputs": [],
   "source": [
    "# In this case we see a decline in clarity after 4-grams.\n",
    "# Tri grams represent the most coherent and specific references"
   ],
   "metadata": {
    "collapsed": false,
    "pycharm": {
     "name": "#%%\n"
    }
   }
  }
 ],
 "metadata": {
  "kernelspec": {
   "display_name": "Python 3",
   "language": "python",
   "name": "python3"
  },
  "language_info": {
   "codemirror_mode": {
    "name": "ipython",
    "version": 2
   },
   "file_extension": ".py",
   "mimetype": "text/x-python",
   "name": "python",
   "nbconvert_exporter": "python",
   "pygments_lexer": "ipython2",
   "version": "2.7.6"
  }
 },
 "nbformat": 4,
 "nbformat_minor": 0
}